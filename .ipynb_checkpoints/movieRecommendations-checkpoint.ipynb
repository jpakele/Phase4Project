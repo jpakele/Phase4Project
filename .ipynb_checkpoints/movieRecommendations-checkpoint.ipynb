{
 "cells": [
  {
   "cell_type": "markdown",
   "metadata": {},
   "source": [
    "# Movie Recommendation System"
   ]
  },
  {
   "cell_type": "markdown",
   "metadata": {},
   "source": [
    "The goal of this notebook is to create a recommendation system that will give recommendations of movies based on user input."
   ]
  },
  {
   "cell_type": "markdown",
   "metadata": {},
   "source": [
    "## First look at the data"
   ]
  },
  {
   "cell_type": "code",
   "execution_count": 6,
   "metadata": {},
   "outputs": [],
   "source": [
    "# Importing the datasets\n",
    "import pandas as pd\n",
    "import numpy as np\n",
    "movies = pd.read_csv('ml-latest-small/movies.csv')\n",
    "ratings = pd.read_csv('ml-latest-small/ratings.csv')"
   ]
  },
  {
   "cell_type": "code",
   "execution_count": 7,
   "metadata": {},
   "outputs": [
    {
     "data": {
      "text/html": [
       "<div>\n",
       "<style scoped>\n",
       "    .dataframe tbody tr th:only-of-type {\n",
       "        vertical-align: middle;\n",
       "    }\n",
       "\n",
       "    .dataframe tbody tr th {\n",
       "        vertical-align: top;\n",
       "    }\n",
       "\n",
       "    .dataframe thead th {\n",
       "        text-align: right;\n",
       "    }\n",
       "</style>\n",
       "<table border=\"1\" class=\"dataframe\">\n",
       "  <thead>\n",
       "    <tr style=\"text-align: right;\">\n",
       "      <th></th>\n",
       "      <th>movieId</th>\n",
       "      <th>title</th>\n",
       "      <th>genres</th>\n",
       "    </tr>\n",
       "  </thead>\n",
       "  <tbody>\n",
       "    <tr>\n",
       "      <th>0</th>\n",
       "      <td>1</td>\n",
       "      <td>Toy Story (1995)</td>\n",
       "      <td>Adventure|Animation|Children|Comedy|Fantasy</td>\n",
       "    </tr>\n",
       "    <tr>\n",
       "      <th>1</th>\n",
       "      <td>2</td>\n",
       "      <td>Jumanji (1995)</td>\n",
       "      <td>Adventure|Children|Fantasy</td>\n",
       "    </tr>\n",
       "    <tr>\n",
       "      <th>2</th>\n",
       "      <td>3</td>\n",
       "      <td>Grumpier Old Men (1995)</td>\n",
       "      <td>Comedy|Romance</td>\n",
       "    </tr>\n",
       "    <tr>\n",
       "      <th>3</th>\n",
       "      <td>4</td>\n",
       "      <td>Waiting to Exhale (1995)</td>\n",
       "      <td>Comedy|Drama|Romance</td>\n",
       "    </tr>\n",
       "    <tr>\n",
       "      <th>4</th>\n",
       "      <td>5</td>\n",
       "      <td>Father of the Bride Part II (1995)</td>\n",
       "      <td>Comedy</td>\n",
       "    </tr>\n",
       "  </tbody>\n",
       "</table>\n",
       "</div>"
      ],
      "text/plain": [
       "   movieId                               title  \\\n",
       "0        1                    Toy Story (1995)   \n",
       "1        2                      Jumanji (1995)   \n",
       "2        3             Grumpier Old Men (1995)   \n",
       "3        4            Waiting to Exhale (1995)   \n",
       "4        5  Father of the Bride Part II (1995)   \n",
       "\n",
       "                                        genres  \n",
       "0  Adventure|Animation|Children|Comedy|Fantasy  \n",
       "1                   Adventure|Children|Fantasy  \n",
       "2                               Comedy|Romance  \n",
       "3                         Comedy|Drama|Romance  \n",
       "4                                       Comedy  "
      ]
     },
     "execution_count": 7,
     "metadata": {},
     "output_type": "execute_result"
    }
   ],
   "source": [
    "movies.head()"
   ]
  },
  {
   "cell_type": "code",
   "execution_count": 8,
   "metadata": {},
   "outputs": [
    {
     "data": {
      "text/html": [
       "<div>\n",
       "<style scoped>\n",
       "    .dataframe tbody tr th:only-of-type {\n",
       "        vertical-align: middle;\n",
       "    }\n",
       "\n",
       "    .dataframe tbody tr th {\n",
       "        vertical-align: top;\n",
       "    }\n",
       "\n",
       "    .dataframe thead th {\n",
       "        text-align: right;\n",
       "    }\n",
       "</style>\n",
       "<table border=\"1\" class=\"dataframe\">\n",
       "  <thead>\n",
       "    <tr style=\"text-align: right;\">\n",
       "      <th></th>\n",
       "      <th>userId</th>\n",
       "      <th>movieId</th>\n",
       "      <th>rating</th>\n",
       "      <th>timestamp</th>\n",
       "    </tr>\n",
       "  </thead>\n",
       "  <tbody>\n",
       "    <tr>\n",
       "      <th>0</th>\n",
       "      <td>1</td>\n",
       "      <td>1</td>\n",
       "      <td>4.0</td>\n",
       "      <td>964982703</td>\n",
       "    </tr>\n",
       "    <tr>\n",
       "      <th>1</th>\n",
       "      <td>1</td>\n",
       "      <td>3</td>\n",
       "      <td>4.0</td>\n",
       "      <td>964981247</td>\n",
       "    </tr>\n",
       "    <tr>\n",
       "      <th>2</th>\n",
       "      <td>1</td>\n",
       "      <td>6</td>\n",
       "      <td>4.0</td>\n",
       "      <td>964982224</td>\n",
       "    </tr>\n",
       "    <tr>\n",
       "      <th>3</th>\n",
       "      <td>1</td>\n",
       "      <td>47</td>\n",
       "      <td>5.0</td>\n",
       "      <td>964983815</td>\n",
       "    </tr>\n",
       "    <tr>\n",
       "      <th>4</th>\n",
       "      <td>1</td>\n",
       "      <td>50</td>\n",
       "      <td>5.0</td>\n",
       "      <td>964982931</td>\n",
       "    </tr>\n",
       "  </tbody>\n",
       "</table>\n",
       "</div>"
      ],
      "text/plain": [
       "   userId  movieId  rating  timestamp\n",
       "0       1        1     4.0  964982703\n",
       "1       1        3     4.0  964981247\n",
       "2       1        6     4.0  964982224\n",
       "3       1       47     5.0  964983815\n",
       "4       1       50     5.0  964982931"
      ]
     },
     "execution_count": 8,
     "metadata": {},
     "output_type": "execute_result"
    }
   ],
   "source": [
    "ratings.head()"
   ]
  },
  {
   "cell_type": "markdown",
   "metadata": {},
   "source": [
    "I'll be using surprise to do my prediction and modeling so I need to reduce the ratings data down to three columns. Time stamp is extraneous to begin with so I'll drop that column entirely."
   ]
  },
  {
   "cell_type": "code",
   "execution_count": 9,
   "metadata": {},
   "outputs": [
    {
     "data": {
      "text/html": [
       "<div>\n",
       "<style scoped>\n",
       "    .dataframe tbody tr th:only-of-type {\n",
       "        vertical-align: middle;\n",
       "    }\n",
       "\n",
       "    .dataframe tbody tr th {\n",
       "        vertical-align: top;\n",
       "    }\n",
       "\n",
       "    .dataframe thead th {\n",
       "        text-align: right;\n",
       "    }\n",
       "</style>\n",
       "<table border=\"1\" class=\"dataframe\">\n",
       "  <thead>\n",
       "    <tr style=\"text-align: right;\">\n",
       "      <th></th>\n",
       "      <th>userId</th>\n",
       "      <th>movieId</th>\n",
       "      <th>rating</th>\n",
       "    </tr>\n",
       "  </thead>\n",
       "  <tbody>\n",
       "    <tr>\n",
       "      <th>0</th>\n",
       "      <td>1</td>\n",
       "      <td>1</td>\n",
       "      <td>4.0</td>\n",
       "    </tr>\n",
       "    <tr>\n",
       "      <th>1</th>\n",
       "      <td>1</td>\n",
       "      <td>3</td>\n",
       "      <td>4.0</td>\n",
       "    </tr>\n",
       "    <tr>\n",
       "      <th>2</th>\n",
       "      <td>1</td>\n",
       "      <td>6</td>\n",
       "      <td>4.0</td>\n",
       "    </tr>\n",
       "    <tr>\n",
       "      <th>3</th>\n",
       "      <td>1</td>\n",
       "      <td>47</td>\n",
       "      <td>5.0</td>\n",
       "    </tr>\n",
       "    <tr>\n",
       "      <th>4</th>\n",
       "      <td>1</td>\n",
       "      <td>50</td>\n",
       "      <td>5.0</td>\n",
       "    </tr>\n",
       "  </tbody>\n",
       "</table>\n",
       "</div>"
      ],
      "text/plain": [
       "   userId  movieId  rating\n",
       "0       1        1     4.0\n",
       "1       1        3     4.0\n",
       "2       1        6     4.0\n",
       "3       1       47     5.0\n",
       "4       1       50     5.0"
      ]
     },
     "execution_count": 9,
     "metadata": {},
     "output_type": "execute_result"
    }
   ],
   "source": [
    "ratings = ratings.drop(columns = 'timestamp')\n",
    "ratings.head()"
   ]
  },
  {
   "cell_type": "markdown",
   "metadata": {},
   "source": [
    "Perfect. And much less effort thanks in part to not having any data cleaning to do. Now, we need to do a little data model testing."
   ]
  },
  {
   "cell_type": "markdown",
   "metadata": {},
   "source": [
    "## Model Testing"
   ]
  },
  {
   "cell_type": "code",
   "execution_count": 14,
   "metadata": {},
   "outputs": [
    {
     "name": "stdout",
     "output_type": "stream",
     "text": [
      "Computing the pearson similarity matrix...\n",
      "Done computing similarity matrix.\n",
      "RMSE: 0.9718\n",
      "Computing the pearson similarity matrix...\n",
      "Done computing similarity matrix.\n",
      "RMSE: 0.9021\n",
      "Computing the pearson similarity matrix...\n",
      "Done computing similarity matrix.\n",
      "RMSE: 0.9056\n",
      "Estimating biases using als...\n",
      "Computing the pearson similarity matrix...\n",
      "Done computing similarity matrix.\n",
      "RMSE: 0.8812\n",
      "RMSE: 0.8738\n",
      "RMSE: 1.4118\n",
      "Estimating biases using als...\n",
      "RMSE: 0.8739\n",
      "RMSE: 0.9170\n",
      "RMSE: 0.8968\n",
      "RMSE: 0.9397\n"
     ]
    },
    {
     "data": {
      "text/plain": [
       "['KNNBasic: 0.971846459980042 | Time Elapsed: 65.84/sec',\n",
       " 'KNNWithMeans: 0.9020955674414711 | Time Elapsed: 66.18/sec',\n",
       " 'KNNWithZScore: 0.905565420655282 | Time Elapsed: 65.3/sec',\n",
       " 'KNNBaseline: 0.8812243426888469 | Time Elapsed: 67.97/sec',\n",
       " 'SVD: 0.8737744850082054 | Time Elapsed: 12.0/sec',\n",
       " 'NormalPredictor: 1.4118323446448224 | Time Elapsed: 0.56/sec',\n",
       " 'BaselineOnly: 0.8739309821152166 | Time Elapsed: 0.46/sec',\n",
       " 'NMF: 0.9169839223926739 | Time Elapsed: 12.84/sec',\n",
       " 'SlopeOne: 0.8967589686237372 | Time Elapsed: 22.11/sec',\n",
       " 'CoClustering: 0.9397130868455623 | Time Elapsed: 5.53/sec']"
      ]
     },
     "execution_count": 14,
     "metadata": {},
     "output_type": "execute_result"
    }
   ],
   "source": [
    "# This is for checking the time it takes to run each individual model\n",
    "# Running this cell might take a while\n",
    "import time\n",
    "\n",
    "from surprise.similarities import cosine, msd, pearson\n",
    "from surprise import accuracy\n",
    "from surprise import Reader, Dataset\n",
    "from surprise.model_selection import train_test_split\n",
    "\n",
    "#loading the .CSV file into surprise\n",
    "reader = Reader()\n",
    "data = Dataset.load_from_df(ratings,reader)\n",
    "train, test = train_test_split(data, test_size=0.2)\n",
    "\n",
    "rmseScores = []\n",
    "\n",
    "from surprise.prediction_algorithms import knns\n",
    "sim_pearson = {'name':'pearson', 'user_based':False}\n",
    "basic_pearson = knns.KNNBasic(sim_options=sim_pearson)\n",
    "start = time.time()\n",
    "basic_pearson.fit(train)\n",
    "predictions = basic_pearson.test(test)\n",
    "thePrediction = f'KNNBasic: {accuracy.rmse(predictions)}'\n",
    "end = time.time()\n",
    "store = f'{thePrediction} | Time Elapsed: {np.round(end - start, 2)}/sec'\n",
    "rmseScores.append(store)\n",
    "\n",
    "knn_means = knns.KNNWithMeans(sim_options=sim_pearson)\n",
    "start = time.time()\n",
    "knn_means.fit(train)\n",
    "predictions = knn_means.test(test)\n",
    "thePrediction = f'KNNWithMeans: {accuracy.rmse(predictions)}'\n",
    "end = time.time()\n",
    "store = f'{thePrediction} | Time Elapsed: {np.round(end - start, 2)}/sec'\n",
    "rmseScores.append(store)\n",
    "\n",
    "knnZ = knns.KNNWithZScore(sim_options=sim_pearson)\n",
    "start = time.time()\n",
    "knnZ.fit(train)\n",
    "predictions = knnZ.test(test)\n",
    "thePrediction = f'KNNWithZScore: {accuracy.rmse(predictions)}'\n",
    "end = time.time()\n",
    "store = f'{thePrediction} | Time Elapsed: {np.round(end - start, 2)}/sec'\n",
    "rmseScores.append(store)\n",
    "\n",
    "sim_pearson = {'name':'pearson', 'user_based':False}\n",
    "knn_baseline = knns.KNNBaseline(sim_options=sim_pearson)\n",
    "start = time.time()\n",
    "knn_baseline.fit(train)\n",
    "predictions = knn_baseline.test(test)\n",
    "thePrediction = f'KNNBaseline: {accuracy.rmse(predictions)}'\n",
    "end = time.time()\n",
    "store = f'{thePrediction} | Time Elapsed: {np.round(end - start, 2)}/sec'\n",
    "rmseScores.append(store)\n",
    "\n",
    "from surprise.prediction_algorithms import SVD\n",
    "svd = SVD()\n",
    "start = time.time()\n",
    "svd.fit(train)\n",
    "predictions = svd.test(test)\n",
    "thePrediction = f'SVD: {accuracy.rmse(predictions)}'\n",
    "end = time.time()\n",
    "store = f'{thePrediction} | Time Elapsed: {np.round(end - start, 2)}/sec'\n",
    "rmseScores.append(store)\n",
    "\n",
    "from surprise import NormalPredictor\n",
    "normPred = NormalPredictor()\n",
    "start = time.time()\n",
    "normPred.fit(train)\n",
    "predictions = normPred.test(test)\n",
    "thePrediction = f'NormalPredictor: {accuracy.rmse(predictions)}'\n",
    "end = time.time()\n",
    "store = f'{thePrediction} | Time Elapsed: {np.round(end - start, 2)}/sec'\n",
    "rmseScores.append(store)\n",
    "\n",
    "from surprise import BaselineOnly\n",
    "baseline = BaselineOnly()\n",
    "start = time.time()\n",
    "baseline.fit(train)\n",
    "predictions = baseline.test(test)\n",
    "thePrediction = f'BaselineOnly: {accuracy.rmse(predictions)}'\n",
    "end = time.time()\n",
    "store = f'{thePrediction} | Time Elapsed: {np.round(end - start, 2)}/sec'\n",
    "rmseScores.append(store)\n",
    "\n",
    "from surprise.prediction_algorithms import NMF\n",
    "NMF = NMF()\n",
    "start = time.time()\n",
    "NMF.fit(train)\n",
    "predictions = NMF.test(test)\n",
    "thePrediction = f'NMF: {accuracy.rmse(predictions)}'\n",
    "end = time.time()\n",
    "store = f'{thePrediction} | Time Elapsed: {np.round(end - start, 2)}/sec'\n",
    "rmseScores.append(store)\n",
    "\n",
    "from surprise.prediction_algorithms import SlopeOne\n",
    "slopeOne = SlopeOne()\n",
    "start = time.time()\n",
    "slopeOne.fit(train)\n",
    "predictions = slopeOne.test(test)\n",
    "thePrediction = f'SlopeOne: {accuracy.rmse(predictions)}'\n",
    "end = time.time()\n",
    "store = f'{thePrediction} | Time Elapsed: {np.round(end - start, 2)}/sec'\n",
    "rmseScores.append(store)\n",
    "\n",
    "from surprise.prediction_algorithms import CoClustering\n",
    "cluster = CoClustering()\n",
    "start = time.time()\n",
    "cluster.fit(train)\n",
    "predictions = cluster.test(test)\n",
    "thePrediction = f'CoClustering: {accuracy.rmse(predictions)}'\n",
    "end = time.time()\n",
    "store = f'{thePrediction} | Time Elapsed: {np.round(end - start, 2)}/sec'\n",
    "rmseScores.append(store)\n",
    "\n",
    "rmseScores"
   ]
  },
  {
   "cell_type": "markdown",
   "metadata": {},
   "source": [
    "SVD and BaselineOnly seems to have the closest accuracy while maintaining a very short runtime. Although KNNBaseline has the second best score, all KNN models have a substantial runtime that holds it back. Looking at BaselineOnly, modifying the parameters seems to be missing some documentation."
   ]
  },
  {
   "cell_type": "markdown",
   "metadata": {},
   "source": [
    "Let's commit to SVD and run a grid search to narrow in what parameters might work best."
   ]
  },
  {
   "cell_type": "code",
   "execution_count": 11,
   "metadata": {},
   "outputs": [],
   "source": [
    "# Importing relevant libraries here just to get them out of the way\n",
    "from surprise.model_selection import cross_validate\n",
    "from surprise.model_selection import GridSearchCV"
   ]
  },
  {
   "cell_type": "code",
   "execution_count": 31,
   "metadata": {},
   "outputs": [],
   "source": [
    "# Parameters for the grid search and setting them\n",
    "params = {'n_factors': [20, 50, 100], 'reg_all': [0.02, 0.05, 0.1]}\n",
    "GSsvd = GridSearchCV(SVD, param_grid = params, n_jobs = -1)"
   ]
  },
  {
   "cell_type": "code",
   "execution_count": 15,
   "metadata": {},
   "outputs": [],
   "source": [
    "#fitting it on the data\n",
    "GSsvd.fit(data)"
   ]
  },
  {
   "cell_type": "code",
   "execution_count": 16,
   "metadata": {
    "scrolled": true
   },
   "outputs": [
    {
     "name": "stdout",
     "output_type": "stream",
     "text": [
      "{'rmse': 0.8694254611359741, 'mae': 0.6686066963698798}\n",
      "{'rmse': {'n_factors': 100, 'reg_all': 0.05}, 'mae': {'n_factors': 100, 'reg_all': 0.05}}\n"
     ]
    }
   ],
   "source": [
    "# print out optimal parameters for SVD after GridSearchbest_params\n",
    "print(GSsvd.best_score)\n",
    "print(GSsvd.best_params)"
   ]
  },
  {
   "cell_type": "markdown",
   "metadata": {},
   "source": [
    "Perfect. Finally, let's build one solid function that takes in some input, runs our model, spits out some recommendations of movies."
   ]
  },
  {
   "cell_type": "code",
   "execution_count": 28,
   "metadata": {},
   "outputs": [],
   "source": [
    "# This function will take in the predictions and give the top recommendations.\n",
    "# This function is separate because it'll be called in the next fucntion.\n",
    "def recommended_movies(user_ratings,movie_title_df,n):\n",
    "        for idx, rec in enumerate(user_ratings):\n",
    "            title = movie_title_df.loc[movie_title_df['movieId'] == int(rec[0])]['title']\n",
    "            print('Recommendation # ', idx+1, ': ', title, '\\n')\n",
    "            n -= 1\n",
    "            if n == 0:\n",
    "                break"
   ]
  },
  {
   "cell_type": "code",
   "execution_count": 29,
   "metadata": {},
   "outputs": [],
   "source": [
    "def movie_recommender(movie_df, num_of_rated_movies, genre=None):\n",
    "    userID = 1000\n",
    "    rating_list = []\n",
    "    print(f'Thank you for participating! In order to obtain your recommendations, please rate {num_of_rated_movies} movies.')\n",
    "    \n",
    "    # This portion grabs a random movie title and info and asks the user to rate it\n",
    "    # Once the user gives a number 1-5 or n (for haven't seen), it will append it\n",
    "    # To the rating_list.\n",
    "    while num_of_rated_movies > 0:\n",
    "        if genre:\n",
    "            movie = movie_df[movie_df['genres'].str.contains(genre)].sample(1)\n",
    "        else:\n",
    "            movie = movie_df.sample(1)\n",
    "        print(movie)\n",
    "        rating = input('On a scale of 1 - 5, how would you rate this movie? press n if you have not seen this movie. Press enter to submit your answer: \\n')\n",
    "        if rating == 'n':\n",
    "            continue\n",
    "        else:\n",
    "            rating_one_movie = {'userId':userID, 'movieId':movie['movieId'].values[0], 'rating':rating}\n",
    "            rating_list.append(rating_one_movie)\n",
    "            num_of_rated_movies -= 1\n",
    "    \n",
    "    # This portion will take the ratings list, and makes a prediction on it\n",
    "    new_rating_df = ratings.append(rating_list, ignore_index = True)\n",
    "    new_data = Dataset.load_from_df(new_rating_df, reader)\n",
    "    svd = SVD(n_factors=100, n_epochs=10, lr_all=0.005, reg_all=0.4)\n",
    "    svd.fit(new_data.build_full_trainset())\n",
    "    predictions = svd.test(test)\n",
    "    \n",
    "    moviesList = []\n",
    "    for m_id in ratings['movieId'].unique():\n",
    "        moviesList.append((m_id, svd.predict(1000, m_id)[3]))\n",
    "    \n",
    "    # This portion takes the list of predictions and orders them in order\n",
    "    # of most likely to be liked by the user to least.\n",
    "    ranked_movies = sorted(moviesList, key=lambda x:x[1], reverse=True)\n",
    "    \n",
    "    # This takes in the list of predicted movies, the DataFrame of movies,\n",
    "    # and a number reguarding how many movies to show (starting from the top)\n",
    "    return recommended_movies(ranked_movies,movies,5), print(thePrediction)"
   ]
  },
  {
   "cell_type": "code",
   "execution_count": 30,
   "metadata": {},
   "outputs": [
    {
     "name": "stdout",
     "output_type": "stream",
     "text": [
      "Thank you for participating! In order to obtain your recommendations, please rate 4 movies.\n",
      "      movieId                   title  genres\n",
      "1074     1394  Raising Arizona (1987)  Comedy\n",
      "On a scale of 1 - 5, how would you rate this movie? press n if you have not seen this movie. Press enter to submit your answer: \n",
      "4\n",
      "      movieId                  title            genres\n",
      "2288     3035  Mister Roberts (1955)  Comedy|Drama|War\n",
      "On a scale of 1 - 5, how would you rate this movie? press n if you have not seen this movie. Press enter to submit your answer: \n",
      "4\n",
      "      movieId                                 title  genres\n",
      "9555   173253  Vir Das: Abroad Understanding (2017)  Comedy\n",
      "On a scale of 1 - 5, how would you rate this movie? press n if you have not seen this movie. Press enter to submit your answer: \n",
      "4\n",
      "      movieId                     title                genres\n",
      "6400    50802  Because I Said So (2007)  Comedy|Drama|Romance\n",
      "On a scale of 1 - 5, how would you rate this movie? press n if you have not seen this movie. Press enter to submit your answer: \n",
      "4\n",
      "RMSE: 0.8668\n",
      "Recommendation #  1 :  277    Shawshank Redemption, The (1994)\n",
      "Name: title, dtype: object \n",
      "\n",
      "Recommendation #  2 :  602    Dr. Strangelove or: How I Learned to Stop Worr...\n",
      "Name: title, dtype: object \n",
      "\n",
      "Recommendation #  3 :  906    Lawrence of Arabia (1962)\n",
      "Name: title, dtype: object \n",
      "\n",
      "Recommendation #  4 :  659    Godfather, The (1972)\n",
      "Name: title, dtype: object \n",
      "\n",
      "Recommendation #  5 :  686    Rear Window (1954)\n",
      "Name: title, dtype: object \n",
      "\n",
      "SVD: 0.8667561367167463\n"
     ]
    },
    {
     "data": {
      "text/plain": [
       "(None, None)"
      ]
     },
     "execution_count": 30,
     "metadata": {},
     "output_type": "execute_result"
    }
   ],
   "source": [
    "# Running this cell will start to questionair.\n",
    "# It takes in the DataFrame of movies, a number for how many user inputs\n",
    "# it requires, and the genre you wish to be recommendations to be from\n",
    "movie_recommender(movies, 4, 'Comedy')"
   ]
  },
  {
   "cell_type": "markdown",
   "metadata": {},
   "source": [
    "The use cases for this are ultimately pretty obvious. Movie streaming services are all but uncommon. Movie streaming services like Hulu and Netflix require user input to be able to recommend movies to users effectively. Even if it's as simple as recommendations base on movies similar to the most recent."
   ]
  },
  {
   "cell_type": "markdown",
   "metadata": {},
   "source": [
    "This system could work in tandem, using a 'likes' system to recommend movies upfront could help jumpstart streaming services give something accurate to begin with."
   ]
  },
  {
   "cell_type": "code",
   "execution_count": null,
   "metadata": {},
   "outputs": [],
   "source": []
  }
 ],
 "metadata": {
  "kernelspec": {
   "display_name": "learn-env",
   "language": "python",
   "name": "learn-env"
  },
  "language_info": {
   "codemirror_mode": {
    "name": "ipython",
    "version": 3
   },
   "file_extension": ".py",
   "mimetype": "text/x-python",
   "name": "python",
   "nbconvert_exporter": "python",
   "pygments_lexer": "ipython3",
   "version": "3.6.9"
  }
 },
 "nbformat": 4,
 "nbformat_minor": 4
}
