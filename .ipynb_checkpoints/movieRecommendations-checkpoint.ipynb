{
 "cells": [
  {
   "cell_type": "markdown",
   "metadata": {},
   "source": [
    "# Movie Recommendation System"
   ]
  },
  {
   "cell_type": "markdown",
   "metadata": {},
   "source": [
    "The goal of this notebook is to create a recommendation system that will give recommendations of movies based on user input."
   ]
  },
  {
   "cell_type": "markdown",
   "metadata": {},
   "source": [
    "## First look at the data"
   ]
  },
  {
   "cell_type": "code",
   "execution_count": 207,
   "metadata": {},
   "outputs": [],
   "source": [
    "# Importing the datasets\n",
    "import pandas as pd\n",
    "import numpy as np\n",
    "movies = pd.read_csv('ml-latest-small/movies.csv')\n",
    "ratings = pd.read_csv('ml-latest-small/ratings.csv')\n",
    "\n",
    "#visualization\n",
    "import matplotlib.pyplot as plt\n",
    "%matplotlib inline\n",
    "\n",
    "#models\n",
    "import time\n",
    "from surprise.similarities import cosine, msd, pearson\n",
    "from surprise import accuracy\n",
    "from surprise import Reader, Dataset\n",
    "from surprise.model_selection import train_test_split\n",
    "from surprise.prediction_algorithms import knns\n",
    "from surprise.prediction_algorithms import SVD\n",
    "from surprise import NormalPredictor\n",
    "from surprise import BaselineOnly\n",
    "from surprise.prediction_algorithms import NMF\n",
    "from surprise.prediction_algorithms import SlopeOne\n",
    "from surprise.prediction_algorithms import CoClustering\n",
    "\n",
    "#  Grid search and parameters\n",
    "from surprise.model_selection import GridSearchCV"
   ]
  },
  {
   "cell_type": "code",
   "execution_count": 208,
   "metadata": {},
   "outputs": [
    {
     "data": {
      "text/html": [
       "<div>\n",
       "<style scoped>\n",
       "    .dataframe tbody tr th:only-of-type {\n",
       "        vertical-align: middle;\n",
       "    }\n",
       "\n",
       "    .dataframe tbody tr th {\n",
       "        vertical-align: top;\n",
       "    }\n",
       "\n",
       "    .dataframe thead th {\n",
       "        text-align: right;\n",
       "    }\n",
       "</style>\n",
       "<table border=\"1\" class=\"dataframe\">\n",
       "  <thead>\n",
       "    <tr style=\"text-align: right;\">\n",
       "      <th></th>\n",
       "      <th>movieId</th>\n",
       "      <th>title</th>\n",
       "      <th>genres</th>\n",
       "    </tr>\n",
       "  </thead>\n",
       "  <tbody>\n",
       "    <tr>\n",
       "      <th>0</th>\n",
       "      <td>1</td>\n",
       "      <td>Toy Story (1995)</td>\n",
       "      <td>Adventure|Animation|Children|Comedy|Fantasy</td>\n",
       "    </tr>\n",
       "    <tr>\n",
       "      <th>1</th>\n",
       "      <td>2</td>\n",
       "      <td>Jumanji (1995)</td>\n",
       "      <td>Adventure|Children|Fantasy</td>\n",
       "    </tr>\n",
       "    <tr>\n",
       "      <th>2</th>\n",
       "      <td>3</td>\n",
       "      <td>Grumpier Old Men (1995)</td>\n",
       "      <td>Comedy|Romance</td>\n",
       "    </tr>\n",
       "    <tr>\n",
       "      <th>3</th>\n",
       "      <td>4</td>\n",
       "      <td>Waiting to Exhale (1995)</td>\n",
       "      <td>Comedy|Drama|Romance</td>\n",
       "    </tr>\n",
       "    <tr>\n",
       "      <th>4</th>\n",
       "      <td>5</td>\n",
       "      <td>Father of the Bride Part II (1995)</td>\n",
       "      <td>Comedy</td>\n",
       "    </tr>\n",
       "  </tbody>\n",
       "</table>\n",
       "</div>"
      ],
      "text/plain": [
       "   movieId                               title  \\\n",
       "0        1                    Toy Story (1995)   \n",
       "1        2                      Jumanji (1995)   \n",
       "2        3             Grumpier Old Men (1995)   \n",
       "3        4            Waiting to Exhale (1995)   \n",
       "4        5  Father of the Bride Part II (1995)   \n",
       "\n",
       "                                        genres  \n",
       "0  Adventure|Animation|Children|Comedy|Fantasy  \n",
       "1                   Adventure|Children|Fantasy  \n",
       "2                               Comedy|Romance  \n",
       "3                         Comedy|Drama|Romance  \n",
       "4                                       Comedy  "
      ]
     },
     "execution_count": 208,
     "metadata": {},
     "output_type": "execute_result"
    }
   ],
   "source": [
    "movies.head()"
   ]
  },
  {
   "cell_type": "code",
   "execution_count": 209,
   "metadata": {},
   "outputs": [
    {
     "data": {
      "text/html": [
       "<div>\n",
       "<style scoped>\n",
       "    .dataframe tbody tr th:only-of-type {\n",
       "        vertical-align: middle;\n",
       "    }\n",
       "\n",
       "    .dataframe tbody tr th {\n",
       "        vertical-align: top;\n",
       "    }\n",
       "\n",
       "    .dataframe thead th {\n",
       "        text-align: right;\n",
       "    }\n",
       "</style>\n",
       "<table border=\"1\" class=\"dataframe\">\n",
       "  <thead>\n",
       "    <tr style=\"text-align: right;\">\n",
       "      <th></th>\n",
       "      <th>userId</th>\n",
       "      <th>movieId</th>\n",
       "      <th>rating</th>\n",
       "      <th>timestamp</th>\n",
       "    </tr>\n",
       "  </thead>\n",
       "  <tbody>\n",
       "    <tr>\n",
       "      <th>0</th>\n",
       "      <td>1</td>\n",
       "      <td>1</td>\n",
       "      <td>4.0</td>\n",
       "      <td>964982703</td>\n",
       "    </tr>\n",
       "    <tr>\n",
       "      <th>1</th>\n",
       "      <td>1</td>\n",
       "      <td>3</td>\n",
       "      <td>4.0</td>\n",
       "      <td>964981247</td>\n",
       "    </tr>\n",
       "    <tr>\n",
       "      <th>2</th>\n",
       "      <td>1</td>\n",
       "      <td>6</td>\n",
       "      <td>4.0</td>\n",
       "      <td>964982224</td>\n",
       "    </tr>\n",
       "    <tr>\n",
       "      <th>3</th>\n",
       "      <td>1</td>\n",
       "      <td>47</td>\n",
       "      <td>5.0</td>\n",
       "      <td>964983815</td>\n",
       "    </tr>\n",
       "    <tr>\n",
       "      <th>4</th>\n",
       "      <td>1</td>\n",
       "      <td>50</td>\n",
       "      <td>5.0</td>\n",
       "      <td>964982931</td>\n",
       "    </tr>\n",
       "  </tbody>\n",
       "</table>\n",
       "</div>"
      ],
      "text/plain": [
       "   userId  movieId  rating  timestamp\n",
       "0       1        1     4.0  964982703\n",
       "1       1        3     4.0  964981247\n",
       "2       1        6     4.0  964982224\n",
       "3       1       47     5.0  964983815\n",
       "4       1       50     5.0  964982931"
      ]
     },
     "execution_count": 209,
     "metadata": {},
     "output_type": "execute_result"
    }
   ],
   "source": [
    "ratings.head()"
   ]
  },
  {
   "cell_type": "markdown",
   "metadata": {},
   "source": [
    "I'll be using surprise to do my prediction and modeling so I need to reduce the ratings data down to three columns. Time stamp is extraneous to begin with so I'll drop that column entirely."
   ]
  },
  {
   "cell_type": "code",
   "execution_count": 210,
   "metadata": {},
   "outputs": [
    {
     "data": {
      "text/html": [
       "<div>\n",
       "<style scoped>\n",
       "    .dataframe tbody tr th:only-of-type {\n",
       "        vertical-align: middle;\n",
       "    }\n",
       "\n",
       "    .dataframe tbody tr th {\n",
       "        vertical-align: top;\n",
       "    }\n",
       "\n",
       "    .dataframe thead th {\n",
       "        text-align: right;\n",
       "    }\n",
       "</style>\n",
       "<table border=\"1\" class=\"dataframe\">\n",
       "  <thead>\n",
       "    <tr style=\"text-align: right;\">\n",
       "      <th></th>\n",
       "      <th>userId</th>\n",
       "      <th>movieId</th>\n",
       "      <th>rating</th>\n",
       "    </tr>\n",
       "  </thead>\n",
       "  <tbody>\n",
       "    <tr>\n",
       "      <th>0</th>\n",
       "      <td>1</td>\n",
       "      <td>1</td>\n",
       "      <td>4.0</td>\n",
       "    </tr>\n",
       "    <tr>\n",
       "      <th>1</th>\n",
       "      <td>1</td>\n",
       "      <td>3</td>\n",
       "      <td>4.0</td>\n",
       "    </tr>\n",
       "    <tr>\n",
       "      <th>2</th>\n",
       "      <td>1</td>\n",
       "      <td>6</td>\n",
       "      <td>4.0</td>\n",
       "    </tr>\n",
       "    <tr>\n",
       "      <th>3</th>\n",
       "      <td>1</td>\n",
       "      <td>47</td>\n",
       "      <td>5.0</td>\n",
       "    </tr>\n",
       "    <tr>\n",
       "      <th>4</th>\n",
       "      <td>1</td>\n",
       "      <td>50</td>\n",
       "      <td>5.0</td>\n",
       "    </tr>\n",
       "  </tbody>\n",
       "</table>\n",
       "</div>"
      ],
      "text/plain": [
       "   userId  movieId  rating\n",
       "0       1        1     4.0\n",
       "1       1        3     4.0\n",
       "2       1        6     4.0\n",
       "3       1       47     5.0\n",
       "4       1       50     5.0"
      ]
     },
     "execution_count": 210,
     "metadata": {},
     "output_type": "execute_result"
    }
   ],
   "source": [
    "ratings = ratings.drop(columns = 'timestamp')\n",
    "ratings.head()"
   ]
  },
  {
   "cell_type": "markdown",
   "metadata": {},
   "source": [
    "Perfect. Now, that we know nothing is wrong  with out data let's see what exactly the data *is*. Let's start with what the most popular genre is."
   ]
  },
  {
   "cell_type": "code",
   "execution_count": 211,
   "metadata": {
    "scrolled": false
   },
   "outputs": [
    {
     "data": {
      "text/plain": [
       "<AxesSubplot:ylabel='genres'>"
      ]
     },
     "execution_count": 211,
     "metadata": {},
     "output_type": "execute_result"
    },
    {
     "data": {
      "image/png": "[encoded data removed]",
      "text/plain": [
       "<Figure size 1440x720 with 1 Axes>"
      ]
     },
     "metadata": {
      "needs_background": "light"
     },
     "output_type": "display_data"
    },
    {
     "data": {
      "image/png": "[encoded data removed]",
      "text/plain": [
       "<Figure size 1440x720 with 1 Axes>"
      ]
     },
     "metadata": {
      "needs_background": "light"
     },
     "output_type": "display_data"
    }
   ],
   "source": [
    "#setting up a new df to make visualizaations\n",
    "df2 = ratings.merge(movies, on='movieId')\n",
    "\n",
    "#new column that returns a count of every instance of the movie title\n",
    "#since ever row is a different rating, ever time a movie title appears\n",
    "#that would be one rating.\n",
    "df2['total ratings'] = df2.groupby('title')['title'].transform('count')\n",
    "#same as above but for genre types\n",
    "df2['genre count'] = df2.groupby('genres')['genres'].transform('count')\n",
    "\n",
    "#counts & plots most popular movie genres\n",
    "df2TotRate = df2.drop_duplicates(subset = 'title').sort_values(by='total ratings', ascending=False).head(10)\n",
    "df2TotRate = df2TotRate.sort_values(by='total ratings', ascending=True)\n",
    "df2TotRate.plot('genres', 'total ratings', kind='barh', figsize = (20, 10))\n",
    "#plt.savefig('images/highestRatedGenres.png')\n",
    "\n",
    "#counts & plots most freequent movie genres\n",
    "df2TotGenres = df2.drop_duplicates(subset = 'genres').sort_values(by='genre count', ascending=False).head(10)\n",
    "df2TotGenres = df2TotGenres.sort_values(by='genre count', ascending=True)\n",
    "df2TotGenres.plot('genres', 'genre count', kind='barh', figsize = (20, 10))\n",
    "#plt.savefig('images/mostFrequentGenres.png')"
   ]
  },
  {
   "cell_type": "code",
   "execution_count": 212,
   "metadata": {},
   "outputs": [
    {
     "data": {
      "text/html": [
       "<div>\n",
       "<style scoped>\n",
       "    .dataframe tbody tr th:only-of-type {\n",
       "        vertical-align: middle;\n",
       "    }\n",
       "\n",
       "    .dataframe tbody tr th {\n",
       "        vertical-align: top;\n",
       "    }\n",
       "\n",
       "    .dataframe thead th {\n",
       "        text-align: right;\n",
       "    }\n",
       "</style>\n",
       "<table border=\"1\" class=\"dataframe\">\n",
       "  <thead>\n",
       "    <tr style=\"text-align: right;\">\n",
       "      <th></th>\n",
       "      <th>userId</th>\n",
       "      <th>movieId</th>\n",
       "      <th>rating</th>\n",
       "      <th>title</th>\n",
       "      <th>genres</th>\n",
       "      <th>total ratings</th>\n",
       "      <th>genre count</th>\n",
       "    </tr>\n",
       "  </thead>\n",
       "  <tbody>\n",
       "    <tr>\n",
       "      <th>3570</th>\n",
       "      <td>1</td>\n",
       "      <td>527</td>\n",
       "      <td>5.0</td>\n",
       "      <td>Schindler's List (1993)</td>\n",
       "      <td>Drama|War</td>\n",
       "      <td>220</td>\n",
       "      <td>1044</td>\n",
       "    </tr>\n",
       "    <tr>\n",
       "      <th>26714</th>\n",
       "      <td>5</td>\n",
       "      <td>589</td>\n",
       "      <td>3.0</td>\n",
       "      <td>Terminator 2: Judgment Day (1991)</td>\n",
       "      <td>Action|Sci-Fi</td>\n",
       "      <td>224</td>\n",
       "      <td>689</td>\n",
       "    </tr>\n",
       "    <tr>\n",
       "      <th>854</th>\n",
       "      <td>1</td>\n",
       "      <td>110</td>\n",
       "      <td>4.0</td>\n",
       "      <td>Braveheart (1995)</td>\n",
       "      <td>Action|Drama|War</td>\n",
       "      <td>237</td>\n",
       "      <td>1034</td>\n",
       "    </tr>\n",
       "    <tr>\n",
       "      <th>3188</th>\n",
       "      <td>1</td>\n",
       "      <td>480</td>\n",
       "      <td>4.0</td>\n",
       "      <td>Jurassic Park (1993)</td>\n",
       "      <td>Action|Adventure|Sci-Fi|Thriller</td>\n",
       "      <td>238</td>\n",
       "      <td>1446</td>\n",
       "    </tr>\n",
       "    <tr>\n",
       "      <th>1568</th>\n",
       "      <td>1</td>\n",
       "      <td>260</td>\n",
       "      <td>5.0</td>\n",
       "      <td>Star Wars: Episode IV - A New Hope (1977)</td>\n",
       "      <td>Action|Adventure|Sci-Fi</td>\n",
       "      <td>251</td>\n",
       "      <td>2361</td>\n",
       "    </tr>\n",
       "    <tr>\n",
       "      <th>12642</th>\n",
       "      <td>1</td>\n",
       "      <td>2571</td>\n",
       "      <td>5.0</td>\n",
       "      <td>Matrix, The (1999)</td>\n",
       "      <td>Action|Sci-Fi|Thriller</td>\n",
       "      <td>278</td>\n",
       "      <td>1195</td>\n",
       "    </tr>\n",
       "    <tr>\n",
       "      <th>4310</th>\n",
       "      <td>1</td>\n",
       "      <td>593</td>\n",
       "      <td>4.0</td>\n",
       "      <td>Silence of the Lambs, The (1991)</td>\n",
       "      <td>Crime|Horror|Thriller</td>\n",
       "      <td>279</td>\n",
       "      <td>340</td>\n",
       "    </tr>\n",
       "    <tr>\n",
       "      <th>1819</th>\n",
       "      <td>1</td>\n",
       "      <td>296</td>\n",
       "      <td>3.0</td>\n",
       "      <td>Pulp Fiction (1994)</td>\n",
       "      <td>Comedy|Crime|Drama|Thriller</td>\n",
       "      <td>307</td>\n",
       "      <td>563</td>\n",
       "    </tr>\n",
       "    <tr>\n",
       "      <th>16296</th>\n",
       "      <td>2</td>\n",
       "      <td>318</td>\n",
       "      <td>3.0</td>\n",
       "      <td>Shawshank Redemption, The (1994)</td>\n",
       "      <td>Crime|Drama</td>\n",
       "      <td>317</td>\n",
       "      <td>2315</td>\n",
       "    </tr>\n",
       "    <tr>\n",
       "      <th>2426</th>\n",
       "      <td>1</td>\n",
       "      <td>356</td>\n",
       "      <td>4.0</td>\n",
       "      <td>Forrest Gump (1994)</td>\n",
       "      <td>Comedy|Drama|Romance|War</td>\n",
       "      <td>329</td>\n",
       "      <td>421</td>\n",
       "    </tr>\n",
       "  </tbody>\n",
       "</table>\n",
       "</div>"
      ],
      "text/plain": [
       "       userId  movieId  rating                                      title  \\\n",
       "3570        1      527     5.0                    Schindler's List (1993)   \n",
       "26714       5      589     3.0          Terminator 2: Judgment Day (1991)   \n",
       "854         1      110     4.0                          Braveheart (1995)   \n",
       "3188        1      480     4.0                       Jurassic Park (1993)   \n",
       "1568        1      260     5.0  Star Wars: Episode IV - A New Hope (1977)   \n",
       "12642       1     2571     5.0                         Matrix, The (1999)   \n",
       "4310        1      593     4.0           Silence of the Lambs, The (1991)   \n",
       "1819        1      296     3.0                        Pulp Fiction (1994)   \n",
       "16296       2      318     3.0           Shawshank Redemption, The (1994)   \n",
       "2426        1      356     4.0                        Forrest Gump (1994)   \n",
       "\n",
       "                                 genres  total ratings  genre count  \n",
       "3570                          Drama|War            220         1044  \n",
       "26714                     Action|Sci-Fi            224          689  \n",
       "854                    Action|Drama|War            237         1034  \n",
       "3188   Action|Adventure|Sci-Fi|Thriller            238         1446  \n",
       "1568            Action|Adventure|Sci-Fi            251         2361  \n",
       "12642            Action|Sci-Fi|Thriller            278         1195  \n",
       "4310              Crime|Horror|Thriller            279          340  \n",
       "1819        Comedy|Crime|Drama|Thriller            307          563  \n",
       "16296                       Crime|Drama            317         2315  \n",
       "2426           Comedy|Drama|Romance|War            329          421  "
      ]
     },
     "execution_count": 212,
     "metadata": {},
     "output_type": "execute_result"
    }
   ],
   "source": [
    "df2TotRate"
   ]
  },
  {
   "cell_type": "markdown",
   "metadata": {},
   "source": [
    "Awesome. From what I can see, Comedy and Drama seem to trade blows for top spot in both categories with Comedy being just a tad head. We'll set our default genre search to Comedy."
   ]
  },
  {
   "cell_type": "markdown",
   "metadata": {},
   "source": [
    "Next, I want to know what the average number of movies a user rates as we can set our default required input for new users."
   ]
  },
  {
   "cell_type": "code",
   "execution_count": 213,
   "metadata": {},
   "outputs": [
    {
     "data": {
      "text/plain": [
       "58.75877662739498"
      ]
     },
     "execution_count": 213,
     "metadata": {},
     "output_type": "execute_result"
    }
   ],
   "source": [
    "#new column of every time a userId appears.\n",
    "df2['total movies rated by user'] = df2.groupby(cols)['userId'].transform('size')\n",
    "\n",
    "df2['total movies rated by user'].mean()"
   ]
  },
  {
   "cell_type": "markdown",
   "metadata": {},
   "source": [
    "Yikes. That's alotta damage. I cannot ask a brand new user to rate 58 movies jsut to get started. Let's look at users who have rated 15 movies or less. From  that, we can at least assume that bellow that number, users are relatively new. We'll take the mean of that, round to the nearest, and got from there."
   ]
  },
  {
   "cell_type": "code",
   "execution_count": 214,
   "metadata": {},
   "outputs": [
    {
     "data": {
      "text/plain": [
       "7.0"
      ]
     },
     "execution_count": 214,
     "metadata": {},
     "output_type": "execute_result"
    }
   ],
   "source": [
    "df2ratings = df2[(df2['total movies rated by user'] <= 15)]\n",
    "df2ratings['total movies rated by user'].mean().round()"
   ]
  },
  {
   "cell_type": "markdown",
   "metadata": {},
   "source": [
    "7 is drastically more reasonable. Fianlly, let's get into model test."
   ]
  },
  {
   "cell_type": "markdown",
   "metadata": {},
   "source": [
    "## Model Testing"
   ]
  },
  {
   "cell_type": "code",
   "execution_count": 215,
   "metadata": {},
   "outputs": [],
   "source": [
    "#loading the .CSV file into surprise\n",
    "reader = Reader()\n",
    "data = Dataset.load_from_df(ratings,reader)\n",
    "train, test = train_test_split(data, test_size=0.2)\n",
    "\n",
    "rmseScores = []"
   ]
  },
  {
   "cell_type": "code",
   "execution_count": 216,
   "metadata": {},
   "outputs": [
    {
     "name": "stdout",
     "output_type": "stream",
     "text": [
      "Computing the pearson similarity matrix...\n",
      "Done computing similarity matrix.\n",
      "RMSE: 0.9720\n",
      "Computing the pearson similarity matrix...\n",
      "Done computing similarity matrix.\n",
      "RMSE: 0.9029\n",
      "Computing the pearson similarity matrix...\n",
      "Done computing similarity matrix.\n",
      "RMSE: 0.9074\n",
      "Estimating biases using als...\n",
      "Computing the pearson similarity matrix...\n",
      "Done computing similarity matrix.\n",
      "RMSE: 0.8812\n",
      "RMSE: 0.8755\n",
      "RMSE: 1.4372\n",
      "Estimating biases using als...\n",
      "RMSE: 0.8764\n",
      "RMSE: 0.9257\n",
      "RMSE: 0.9028\n",
      "RMSE: 0.9425\n"
     ]
    },
    {
     "data": {
      "text/plain": [
       "['KNNBasic: 0.9720369251140125 | Time Elapsed: 24.31/sec',\n",
       " 'KNNWithMeans: 0.9028617434197561 | Time Elapsed: 24.49/sec',\n",
       " 'KNNWithZScore: 0.9073671599037757 | Time Elapsed: 23.85/sec',\n",
       " 'KNNBaseline: 0.8812415946219455 | Time Elapsed: 23.75/sec',\n",
       " 'SVD: 0.8755218323022746 | Time Elapsed: 3.59/sec',\n",
       " 'NormalPredictor: 1.4372195029014587 | Time Elapsed: 0.25/sec',\n",
       " 'BaselineOnly: 0.8763716172374532 | Time Elapsed: 0.27/sec',\n",
       " 'NMF: 0.925673436840378 | Time Elapsed: 4.37/sec',\n",
       " 'SlopeOne: 0.9028341523589599 | Time Elapsed: 8.44/sec',\n",
       " 'CoClustering: 0.9424730749427819 | Time Elapsed: 2.38/sec']"
      ]
     },
     "execution_count": 216,
     "metadata": {},
     "output_type": "execute_result"
    }
   ],
   "source": [
    "# This is for checking the time it takes to run each individual model\n",
    "# Running this cell might take a while\n",
    "\n",
    "sim_pearson = {'name':'pearson', 'user_based':False}\n",
    "basic_pearson = knns.KNNBasic(sim_options=sim_pearson)\n",
    "start = time.time()\n",
    "basic_pearson.fit(train)\n",
    "predictions = basic_pearson.test(test)\n",
    "thePrediction = f'KNNBasic: {accuracy.rmse(predictions)}'\n",
    "end = time.time()\n",
    "store = f'{thePrediction} | Time Elapsed: {np.round(end - start, 2)}/sec'\n",
    "rmseScores.append(store)\n",
    "\n",
    "knn_means = knns.KNNWithMeans(sim_options=sim_pearson)\n",
    "start = time.time()\n",
    "knn_means.fit(train)\n",
    "predictions = knn_means.test(test)\n",
    "thePrediction = f'KNNWithMeans: {accuracy.rmse(predictions)}'\n",
    "end = time.time()\n",
    "store = f'{thePrediction} | Time Elapsed: {np.round(end - start, 2)}/sec'\n",
    "rmseScores.append(store)\n",
    "\n",
    "knnZ = knns.KNNWithZScore(sim_options=sim_pearson)\n",
    "start = time.time()\n",
    "knnZ.fit(train)\n",
    "predictions = knnZ.test(test)\n",
    "thePrediction = f'KNNWithZScore: {accuracy.rmse(predictions)}'\n",
    "end = time.time()\n",
    "store = f'{thePrediction} | Time Elapsed: {np.round(end - start, 2)}/sec'\n",
    "rmseScores.append(store)\n",
    "\n",
    "sim_pearson = {'name':'pearson', 'user_based':False}\n",
    "knn_baseline = knns.KNNBaseline(sim_options=sim_pearson)\n",
    "start = time.time()\n",
    "knn_baseline.fit(train)\n",
    "predictions = knn_baseline.test(test)\n",
    "thePrediction = f'KNNBaseline: {accuracy.rmse(predictions)}'\n",
    "end = time.time()\n",
    "store = f'{thePrediction} | Time Elapsed: {np.round(end - start, 2)}/sec'\n",
    "rmseScores.append(store)\n",
    "\n",
    "svd = SVD()\n",
    "start = time.time()\n",
    "svd.fit(train)\n",
    "predictions = svd.test(test)\n",
    "thePrediction = f'SVD: {accuracy.rmse(predictions)}'\n",
    "end = time.time()\n",
    "store = f'{thePrediction} | Time Elapsed: {np.round(end - start, 2)}/sec'\n",
    "rmseScores.append(store)\n",
    "\n",
    "normPred = NormalPredictor()\n",
    "start = time.time()\n",
    "normPred.fit(train)\n",
    "predictions = normPred.test(test)\n",
    "thePrediction = f'NormalPredictor: {accuracy.rmse(predictions)}'\n",
    "end = time.time()\n",
    "store = f'{thePrediction} | Time Elapsed: {np.round(end - start, 2)}/sec'\n",
    "rmseScores.append(store)\n",
    "\n",
    "baseline = BaselineOnly()\n",
    "start = time.time()\n",
    "baseline.fit(train)\n",
    "predictions = baseline.test(test)\n",
    "thePrediction = f'BaselineOnly: {accuracy.rmse(predictions)}'\n",
    "end = time.time()\n",
    "store = f'{thePrediction} | Time Elapsed: {np.round(end - start, 2)}/sec'\n",
    "rmseScores.append(store)\n",
    "\n",
    "NMF = NMF()\n",
    "start = time.time()\n",
    "NMF.fit(train)\n",
    "predictions = NMF.test(test)\n",
    "thePrediction = f'NMF: {accuracy.rmse(predictions)}'\n",
    "end = time.time()\n",
    "store = f'{thePrediction} | Time Elapsed: {np.round(end - start, 2)}/sec'\n",
    "rmseScores.append(store)\n",
    "\n",
    "slopeOne = SlopeOne()\n",
    "start = time.time()\n",
    "slopeOne.fit(train)\n",
    "predictions = slopeOne.test(test)\n",
    "thePrediction = f'SlopeOne: {accuracy.rmse(predictions)}'\n",
    "end = time.time()\n",
    "store = f'{thePrediction} | Time Elapsed: {np.round(end - start, 2)}/sec'\n",
    "rmseScores.append(store)\n",
    "\n",
    "cluster = CoClustering()\n",
    "start = time.time()\n",
    "cluster.fit(train)\n",
    "predictions = cluster.test(test)\n",
    "thePrediction = f'CoClustering: {accuracy.rmse(predictions)}'\n",
    "end = time.time()\n",
    "store = f'{thePrediction} | Time Elapsed: {np.round(end - start, 2)}/sec'\n",
    "rmseScores.append(store)\n",
    "\n",
    "rmseScores"
   ]
  },
  {
   "cell_type": "markdown",
   "metadata": {},
   "source": [
    "SVD and BaselineOnly seems to have the closest accuracy while maintaining a very short runtime. Although KNNBaseline has the second best score, all KNN models have a substantial runtime that holds it back. Looking at BaselineOnly, modifying the parameters seems to be missing some documentation."
   ]
  },
  {
   "cell_type": "markdown",
   "metadata": {},
   "source": [
    "Let's commit to SVD and run a grid search to narrow in what parameters might work best."
   ]
  },
  {
   "cell_type": "code",
   "execution_count": 217,
   "metadata": {},
   "outputs": [],
   "source": [
    "params = {'n_factors': [20, 50, 100], 'reg_all': [0.02, 0.05, 0.1]}\n",
    "GSsvd = GridSearchCV(SVD, param_grid = params, n_jobs = -1)"
   ]
  },
  {
   "cell_type": "code",
   "execution_count": 218,
   "metadata": {},
   "outputs": [],
   "source": [
    "#fitting it on the data\n",
    "GSsvd.fit(data)"
   ]
  },
  {
   "cell_type": "code",
   "execution_count": 219,
   "metadata": {
    "scrolled": true
   },
   "outputs": [
    {
     "name": "stdout",
     "output_type": "stream",
     "text": [
      "{'rmse': 0.8690208460870353, 'mae': 0.6681260759870858}\n",
      "{'rmse': {'n_factors': 20, 'reg_all': 0.02}, 'mae': {'n_factors': 20, 'reg_all': 0.02}}\n"
     ]
    }
   ],
   "source": [
    "# print out optimal parameters for SVD after GridSearchbest_params\n",
    "print(GSsvd.best_score)\n",
    "print(GSsvd.best_params)"
   ]
  },
  {
   "cell_type": "markdown",
   "metadata": {},
   "source": [
    "Perfect. Finally, let's build one solid function that takes in some input, runs our model, spits out some recommendations of movies."
   ]
  },
  {
   "cell_type": "code",
   "execution_count": 220,
   "metadata": {},
   "outputs": [],
   "source": [
    "# This function will take in the predictions and give the top recommendations.\n",
    "# This function is separate because it'll be called in the next fucntion.\n",
    "def recommended_movies(user_ratings,movie_title_df,n):\n",
    "    for idx, rec in enumerate(user_ratings):\n",
    "        title = movie_title_df.loc[movie_title_df['movieId'] == int(rec[0])]['title']\n",
    "        print('Recommendation # ', idx+1, ': ', title, '\\n')\n",
    "        n -= 1\n",
    "        if n == 0:\n",
    "            break\n",
    "\n",
    "# This portion will take the ratings list and 2 empty, makes a prediction, and appends it to the empty lists\n",
    "def predict(dfList, emptyList, emptyList2):\n",
    "    new_rating_df = dfList.append(emptyList, ignore_index = True)\n",
    "    new_data = Dataset.load_from_df(new_rating_df, reader)\n",
    "    svd = SVD(n_factors=100, n_epochs=10, lr_all=0.005, reg_all=0.4)\n",
    "    svd.fit(new_data.build_full_trainset())\n",
    "    predictions = svd.test(test)\n",
    "    #thePrediction = accuracy.rmse(predictions)\n",
    "\n",
    "    for m_id in new_rating_df['movieId'].unique():\n",
    "        emptyList2.append((m_id, svd.predict(1000, m_id)[3]))"
   ]
  },
  {
   "cell_type": "code",
   "execution_count": 221,
   "metadata": {},
   "outputs": [],
   "source": [
    "def movie_recommender(num_of_rated_movies, genre=None):\n",
    "    userID = 1000\n",
    "    rating_list = []\n",
    "    movies_list = []\n",
    "    \n",
    "    newMovies = ratings.merge(movies, on='movieId')\n",
    "    newMovies['total ratings'] = df2.groupby('title')['title'].transform('count')\n",
    "    print(f'Thank you for participating! In order to obtain your recommendations, please rate {num_of_rated_movies} movies.')\n",
    "    \n",
    "    #determines if the user wants a specific genre or not and gives random examples to rate accordingly.\n",
    "    #exaamples are given based on top 100 of the determined list\n",
    "    while num_of_rated_movies > 0:\n",
    "        if genre:\n",
    "            dropping = newMovies.drop_duplicates(subset = 'title').sort_values(by='total ratings', ascending=False).head(100)\n",
    "            sorting = dropping[dropping['genres'].str.contains(genre)]\n",
    "            organizing = sorting.sort_values(by='total ratings', ascending=True)\n",
    "            last_drop = organizing.drop(columns = ['total ratings'])\n",
    "            movie = last_drop.sample(1)\n",
    "        else:\n",
    "            newgenre = movies['genres']\n",
    "            \n",
    "            dropping = newMovies.drop_duplicates(subset = 'title').sort_values(by='total ratings', ascending=False).head(100)\n",
    "            organizing = dropping.sort_values(by='total ratings', ascending=True)\n",
    "            last_drop = organizing.drop(columns = ['total ratings'])\n",
    "            movie = last_drop.sample(1)\n",
    "        print(movie)\n",
    "        #takes user put and appends it to empty list for later use.\n",
    "        rating = input('On a scale of 1 - 5, how would you rate this movie? press n if you have not seen this movie. Press enter to submit your answer: \\n')\n",
    "        if rating == 'n':\n",
    "            continue\n",
    "        else:\n",
    "            rating_one_movie = {'userId':userID, 'movieId':movie['movieId'].values[0], 'rating':rating}\n",
    "            rating_list.append(rating_one_movie)\n",
    "            num_of_rated_movies -= 1\n",
    "\n",
    "    #again, determines the user specified a genre or not.\n",
    "    if genre:\n",
    "        #movie df of specicied genre\n",
    "        newMovies = newMovies[newMovies['genres'].str.contains(genre)]\n",
    "        newMovies = newMovies.drop(columns = ['title', 'genres', 'total ratings'])\n",
    "        \n",
    "        predict(newMovies, rating_list, movies_list)\n",
    "\n",
    "        # This portion takes the list of predictions and orders them in order\n",
    "        # of most likely to be liked by the user to least.\n",
    "        ranked_movies = sorted(movies_list, key=lambda x:x[1], reverse=True)\n",
    "    else:\n",
    "        predict(ratings, rating_list, movies_list)\n",
    "        ranked_movies = sorted(movies_list, key=lambda x:x[1], reverse=True)\n",
    "    \n",
    "    # This takes in the list of predicted movies, the DataFrame of movies,\n",
    "    # and a number for how many movies to show (starting from the top)\n",
    "    return (recommended_movies(ranked_movies,movies,5))"
   ]
  },
  {
   "cell_type": "code",
   "execution_count": 222,
   "metadata": {},
   "outputs": [
    {
     "name": "stdout",
     "output_type": "stream",
     "text": [
      "Thank you for participating! In order to obtain your recommendations, please rate 7 movies.\n",
      "       userId  movieId  rating         title  \\\n",
      "32865       6      587     5.0  Ghost (1990)   \n",
      "\n",
      "                                      genres  \n",
      "32865  Comedy|Drama|Fantasy|Romance|Thriller  \n",
      "On a scale of 1 - 5, how would you rate this movie? press n if you have not seen this movie. Press enter to submit your answer: \n",
      "n\n",
      "       userId  movieId  rating           title  \\\n",
      "19939       4      588     4.0  Aladdin (1992)   \n",
      "\n",
      "                                            genres  \n",
      "19939  Adventure|Animation|Children|Comedy|Musical  \n",
      "On a scale of 1 - 5, how would you rate this movie? press n if you have not seen this movie. Press enter to submit your answer: \n",
      "5\n",
      "       userId  movieId  rating  \\\n",
      "37588       7     6539     4.5   \n",
      "\n",
      "                                                   title  \\\n",
      "37588  Pirates of the Caribbean: The Curse of the Bla...   \n",
      "\n",
      "                                genres  \n",
      "37588  Action|Adventure|Comedy|Fantasy  \n",
      "On a scale of 1 - 5, how would you rate this movie? press n if you have not seen this movie. Press enter to submit your answer: \n",
      "5\n",
      "      userId  movieId  rating                                       title  \\\n",
      "6008       1     1073     5.0  Willy Wonka & the Chocolate Factory (1971)   \n",
      "\n",
      "                               genres  \n",
      "6008  Children|Comedy|Fantasy|Musical  \n",
      "On a scale of 1 - 5, how would you rate this movie? press n if you have not seen this movie. Press enter to submit your answer: \n",
      "5\n",
      "      userId  movieId  rating                title  \\\n",
      "1819       1      296     3.0  Pulp Fiction (1994)   \n",
      "\n",
      "                           genres  \n",
      "1819  Comedy|Crime|Drama|Thriller  \n",
      "On a scale of 1 - 5, how would you rate this movie? press n if you have not seen this movie. Press enter to submit your answer: \n",
      "5\n",
      "       userId  movieId  rating           title  \\\n",
      "19939       4      588     4.0  Aladdin (1992)   \n",
      "\n",
      "                                            genres  \n",
      "19939  Adventure|Animation|Children|Comedy|Musical  \n",
      "On a scale of 1 - 5, how would you rate this movie? press n if you have not seen this movie. Press enter to submit your answer: \n",
      "5\n",
      "       userId  movieId  rating                       title        genres\n",
      "22296       4     1968     4.0  Breakfast Club, The (1985)  Comedy|Drama\n",
      "On a scale of 1 - 5, how would you rate this movie? press n if you have not seen this movie. Press enter to submit your answer: \n",
      "4\n",
      "       userId  movieId  rating                       title        genres\n",
      "22296       4     1968     4.0  Breakfast Club, The (1985)  Comedy|Drama\n",
      "On a scale of 1 - 5, how would you rate this movie? press n if you have not seen this movie. Press enter to submit your answer: \n",
      "4\n",
      "Recommendation #  1 :  602    Dr. Strangelove or: How I Learned to Stop Worr...\n",
      "Name: title, dtype: object \n",
      "\n",
      "Recommendation #  2 :  696    My Fair Lady (1964)\n",
      "Name: title, dtype: object \n",
      "\n",
      "Recommendation #  3 :  257    Pulp Fiction (1994)\n",
      "Name: title, dtype: object \n",
      "\n",
      "Recommendation #  4 :  899    Princess Bride, The (1987)\n",
      "Name: title, dtype: object \n",
      "\n",
      "Recommendation #  5 :  3622    Amelie (Fabuleux destin d'Amélie Poulain, Le) ...\n",
      "Name: title, dtype: object \n",
      "\n"
     ]
    }
   ],
   "source": [
    "#### Running this cell will start the questionair.\n",
    "# It takes in the DataFrame of movies, a number for how many user inputs\n",
    "# it requires, and the genre you wish to get recommendations from\n",
    "movie_recommender(7, 'Comedy')"
   ]
  },
  {
   "cell_type": "markdown",
   "metadata": {},
   "source": [
    "The use cases for this are ultimately pretty obvious. Movie streaming services are all but uncommon. Movie streaming services like Hulu and Netflix require user input to be able to recommend movies to users effectively. Even if it's as simple as recommendations base on movies similar to the most recent."
   ]
  },
  {
   "cell_type": "markdown",
   "metadata": {},
   "source": [
    "This system could work in tandem, using a 'likes' system to recommend movies upfront could help jumpstart streaming services give something accurate to begin with."
   ]
  },
  {
   "cell_type": "code",
   "execution_count": null,
   "metadata": {},
   "outputs": [],
   "source": []
  }
 ],
 "metadata": {
  "kernelspec": {
   "display_name": "learn-env",
   "language": "python",
   "name": "learn-env"
  },
  "language_info": {
   "codemirror_mode": {
    "name": "ipython",
    "version": 3
   },
   "file_extension": ".py",
   "mimetype": "text/x-python",
   "name": "python",
   "nbconvert_exporter": "python",
   "pygments_lexer": "ipython3",
   "version": "3.8.5"
  }
 },
 "nbformat": 4,
 "nbformat_minor": 4
}
