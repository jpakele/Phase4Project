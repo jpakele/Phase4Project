{
 "cells": [
  {
   "cell_type": "code",
   "execution_count": 194,
   "metadata": {},
   "outputs": [],
   "source": [
    "#api information\n",
    "baseId = 'https://pokeapi.co/api/v2/'\n",
    "searchType = 'type/'\n",
    "searchPokemon = 'pokemon/'\n",
    "searchAbility = 'ability/'\n",
    "searchMove = 'move/'"
   ]
  },
  {
   "cell_type": "code",
   "execution_count": 158,
   "metadata": {},
   "outputs": [],
   "source": [
    "charmanderUrl  = f'{baseId}{searchPokemon}6'"
   ]
  },
  {
   "cell_type": "code",
   "execution_count": 159,
   "metadata": {},
   "outputs": [
    {
     "data": {
      "text/plain": [
       "'https://pokeapi.co/api/v2/pokemon/6'"
      ]
     },
     "execution_count": 159,
     "metadata": {},
     "output_type": "execute_result"
    }
   ],
   "source": [
    "charmanderUrl"
   ]
  },
  {
   "cell_type": "code",
   "execution_count": 160,
   "metadata": {},
   "outputs": [],
   "source": [
    "import requests\n",
    "charmanderResp = requests.get(charmanderUrl).json()"
   ]
  },
  {
   "cell_type": "code",
   "execution_count": 161,
   "metadata": {},
   "outputs": [
    {
     "name": "stdout",
     "output_type": "stream",
     "text": [
      "dict_keys(['abilities', 'base_experience', 'forms', 'game_indices', 'height', 'held_items', 'id', 'is_default', 'location_area_encounters', 'moves', 'name', 'order', 'past_types', 'species', 'sprites', 'stats', 'types', 'weight'])\n"
     ]
    }
   ],
   "source": [
    "print(charmanderResp.keys())"
   ]
  },
  {
   "cell_type": "code",
   "execution_count": 193,
   "metadata": {
    "scrolled": true
   },
   "outputs": [
    {
     "name": "stdout",
     "output_type": "stream",
     "text": [
      "{'name': 'brutal-swing', 'url': 'https://pokeapi.co/api/v2/move/693/'}\n"
     ]
    }
   ],
   "source": [
    "print(charmanderResp['moves'][-1]['move'])"
   ]
  },
  {
   "cell_type": "code",
   "execution_count": 215,
   "metadata": {},
   "outputs": [],
   "source": [
    "testUrl = 'https://pokeapi.co/api/v2/move/693/'\n",
    "testResp = requests.get(testUrl).json()"
   ]
  },
  {
   "cell_type": "code",
   "execution_count": 200,
   "metadata": {},
   "outputs": [
    {
     "data": {
      "text/plain": [
       "dict_keys(['accuracy', 'contest_combos', 'contest_effect', 'contest_type', 'damage_class', 'effect_chance', 'effect_changes', 'effect_entries', 'flavor_text_entries', 'generation', 'id', 'learned_by_pokemon', 'machines', 'meta', 'name', 'names', 'past_values', 'power', 'pp', 'priority', 'stat_changes', 'super_contest_effect', 'target', 'type'])"
      ]
     },
     "execution_count": 200,
     "metadata": {},
     "output_type": "execute_result"
    }
   ],
   "source": [
    "testResp.keys()"
   ]
  },
  {
   "cell_type": "code",
   "execution_count": 227,
   "metadata": {
    "scrolled": true
   },
   "outputs": [
    {
     "data": {
      "text/plain": [
       "dict_keys(['abilities', 'base_experience', 'forms', 'game_indices', 'height', 'held_items', 'id', 'is_default', 'location_area_encounters', 'moves', 'name', 'order', 'past_types', 'species', 'sprites', 'stats', 'types', 'weight'])"
      ]
     },
     "execution_count": 227,
     "metadata": {},
     "output_type": "execute_result"
    }
   ],
   "source": [
    "pokeTestUrl = f'{baseId}{searchPokemon}spectrier'\n",
    "pokeTestResp = requests.get(gre_url).json()\n",
    "pokeTestResp.keys()"
   ]
  },
  {
   "cell_type": "code",
   "execution_count": 228,
   "metadata": {},
   "outputs": [
    {
     "data": {
      "text/plain": [
       "[]"
      ]
     },
     "execution_count": 228,
     "metadata": {},
     "output_type": "execute_result"
    }
   ],
   "source": [
    "pokeTestResp['moves']"
   ]
  },
  {
   "cell_type": "code",
   "execution_count": 239,
   "metadata": {},
   "outputs": [],
   "source": [
    "# Takes in a number\n",
    "def getPokemonStats(x):\n",
    "    store = []\n",
    "    pokeUrl = f'{baseId}{searchPokemon}{x}'\n",
    "    pokeResp = requests.get(pokeUrl).json()\n",
    "    name = pokeResp['name'].capitalize()\n",
    "    num = 0\n",
    "    print(f'PokeDex number {x} is {name}')\n",
    "    while num != 6:\n",
    "        pokeStatName = pokeResp['stats'][num]['stat']['name']\n",
    "        pokeStatVal = pokeResp['stats'][num]['base_stat']\n",
    "        print(f'{pokeStatName}: {pokeStatVal}')\n",
    "        store.append(pokeStatVal)\n",
    "        num +=1\n",
    "    print(f'Base Stat Total: {sum(store)}')\n",
    "    moveNum = 0\n",
    "    while moveNum < len(pokeResp['moves']):\n",
    "        print(f'{moveNum+1}', pokeResp['moves'][moveNum]['move']['name'])\n",
    "        moveNum += 1"
   ]
  },
  {
   "cell_type": "code",
   "execution_count": 240,
   "metadata": {},
   "outputs": [
    {
     "name": "stdout",
     "output_type": "stream",
     "text": [
      "PokeDex number 800 is Necrozma\n",
      "hp: 97\n",
      "attack: 107\n",
      "defense: 101\n",
      "special-attack: 127\n",
      "special-defense: 89\n",
      "speed: 79\n",
      "Base Stat Total: 600\n",
      "1 swords-dance\n",
      "2 hyper-beam\n",
      "3 solar-beam\n",
      "4 thunder-wave\n",
      "5 earthquake\n",
      "6 toxic\n",
      "7 confusion\n",
      "8 psychic\n",
      "9 double-team\n",
      "10 light-screen\n",
      "11 reflect\n",
      "12 rest\n",
      "13 rock-slide\n",
      "14 slash\n",
      "15 substitute\n",
      "16 thief\n",
      "17 protect\n",
      "18 swagger\n",
      "19 sleep-talk\n",
      "20 return\n",
      "21 frustration\n",
      "22 metal-claw\n",
      "23 morning-sun\n",
      "24 moonlight\n",
      "25 hidden-power\n",
      "26 facade\n",
      "27 brick-break\n",
      "28 rock-tomb\n",
      "29 aerial-ace\n",
      "30 iron-defense\n",
      "31 calm-mind\n",
      "32 rock-blast\n",
      "33 gravity\n",
      "34 gyro-ball\n",
      "35 embargo\n",
      "36 fling\n",
      "37 wring-out\n",
      "38 rock-polish\n",
      "39 dark-pulse\n",
      "40 night-slash\n",
      "41 x-scissor\n",
      "42 power-gem\n",
      "43 giga-impact\n",
      "44 shadow-claw\n",
      "45 psycho-cut\n",
      "46 mirror-shot\n",
      "47 flash-cannon\n",
      "48 trick-room\n",
      "49 stone-edge\n",
      "50 stealth-rock\n",
      "51 charge-beam\n",
      "52 psyshock\n",
      "53 autotomize\n",
      "54 round\n",
      "55 stored-power\n",
      "56 bulldoze\n",
      "57 confide\n",
      "58 smart-strike\n",
      "59 brutal-swing\n",
      "60 prismatic-laser\n",
      "61 photon-geyser\n"
     ]
    }
   ],
   "source": [
    "getPokemonStats(800)"
   ]
  },
  {
   "cell_type": "code",
   "execution_count": null,
   "metadata": {},
   "outputs": [],
   "source": []
  }
 ],
 "metadata": {
  "kernelspec": {
   "display_name": "learn-env",
   "language": "python",
   "name": "learn-env"
  },
  "language_info": {
   "codemirror_mode": {
    "name": "ipython",
    "version": 3
   },
   "file_extension": ".py",
   "mimetype": "text/x-python",
   "name": "python",
   "nbconvert_exporter": "python",
   "pygments_lexer": "ipython3",
   "version": "3.8.5"
  }
 },
 "nbformat": 4,
 "nbformat_minor": 4
}
